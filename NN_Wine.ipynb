{
 "cells": [
  {
   "cell_type": "code",
   "execution_count": 2,
   "metadata": {},
   "outputs": [],
   "source": [
    "#Загрузка данных\n",
    "import os\n",
    "from six.moves import urllib\n",
    "DOWNLOAD_LINK = \"https://archive.ics.uci.edu/ml/machine-learning-databases/wine/wine.data\"\n",
    "WINE_LINK = os.path.join(\"data\",\"wine\")\n",
    "def download_wine(dl = DOWNLOAD_LINK, wp = WINE_LINK):\n",
    "    if not os.path.isdir(wp):\n",
    "        os.makedirs(wp)\n",
    "    WINE_LINK = wp\n",
    "    d_path = os.path.join(wp,\"wine.data\")\n",
    "    urllib.request.urlretrieve(dl,d_path)"
   ]
  },
  {
   "cell_type": "code",
   "execution_count": 3,
   "metadata": {},
   "outputs": [],
   "source": [
    "import numpy as np\n",
    "from scipy.special import expit\n",
    "class neural_network:\n",
    "    def __init__ (self, input_nodes, hiden_nodes, output_nodes, learning_rate):\n",
    "        \n",
    "        self.hl = (np.random.rand(hiden_nodes, input_nodes) - 0.5)\n",
    "        self.ol = (np.random.rand(output_nodes, hiden_nodes) -0.5)\n",
    "        \n",
    "        self.lr = learning_rate\n",
    "        self.activation_function = lambda x : expit(x)\n",
    "        \n",
    "    def query (self, input_list):\n",
    "        input_l = np.array(input_list, ndmin=2).T\n",
    "        \n",
    "        hiden_input = np.dot(self.hl, input_l)\n",
    "        hiden_output = self.activation_function(hiden_input) \n",
    "        \n",
    "        final_input = np.dot(self.ol, hiden_output)\n",
    "        final_output = self.activation_function(final_input)\n",
    "        return final_output\n",
    "    def train (self, input_list, target_list):\n",
    "        input_l = np.array(input_list, ndmin=2).T\n",
    "        resalt = np.array(target_list, ndmin = 2).T\n",
    "        \n",
    "        hiden_input = np.dot(self.hl, input_l)\n",
    "        hiden_output = self.activation_function(hiden_input) \n",
    "        \n",
    "        final_input = np.dot(self.ol, hiden_output)\n",
    "        final_output = self.activation_function(final_input)\n",
    "        \n",
    "        o_error = resalt - final_output\n",
    "        h_error = np.dot(self.ol.T,o_error)\n",
    "        \n",
    "        self.ol += self.lr*np.dot((o_error*final_output * (1-final_output)),hiden_output.T)\n",
    "        self.hl += self.lr*np.dot((h_error*hiden_output * (1-hiden_output)),input_l.T)"
   ]
  },
  {
   "cell_type": "code",
   "execution_count": 148,
   "metadata": {},
   "outputs": [],
   "source": [
    "#Загрузка и нормировка\n",
    "download_wine()\n",
    "with open(os.path.join(WINE_LINK,\"wine.data\")) as file:\n",
    "        data_list = np.array([list(map(float,line.split(\",\"))) for line in file])\n",
    "for i in range (1,data_list.shape[1]):\n",
    "    temp = data_list[:,i]\n",
    "    temp/= temp.max()+1\n",
    "\n",
    "#Разделение данных\n",
    "np.random.seed(42)\n",
    "testing_index = set(np.random.randint(0,data_list.shape[0], data_list.shape[0]//5))\n",
    "training_list,testing_list = [],[]\n",
    "np.random.shuffle(data_list)\n",
    "\n",
    "for i in range(data_list.shape[0]):\n",
    "    if  i in testing_index:\n",
    "        testing_list.append(data_list[i])\n",
    "    else:\n",
    "        training_list.append(data_list[i])\n",
    "nn1_wine = neural_network(13,300,3,0.6)"
   ]
  },
  {
   "cell_type": "code",
   "execution_count": 149,
   "metadata": {},
   "outputs": [],
   "source": [
    "#Обучение\n",
    "epochs =9\n",
    "for j in range(epochs):\n",
    "    for i in training_list:\n",
    "        t_example = i[1::]\n",
    "        t = np.zeros((1,3))\n",
    "        t[0,int(i[0])-1]+=0.99\n",
    "        nn1_wine.train(t_example,t)\n",
    "    "
   ]
  },
  {
   "cell_type": "code",
   "execution_count": 150,
   "metadata": {},
   "outputs": [
    {
     "name": "stdout",
     "output_type": "stream",
     "text": [
      "0.967741935483871\n"
     ]
    }
   ],
   "source": [
    "#Тест\n",
    "res=0\n",
    "for i in testing_list:\n",
    "    t_example = i[1::]\n",
    "    label = np.argmax(nn1_wine.query(t_example))+1\n",
    "    if label==i[0]:\n",
    "        res+=1\n",
    "print(res/len(testing_list))    "
   ]
  },
  {
   "cell_type": "code",
   "execution_count": null,
   "metadata": {},
   "outputs": [],
   "source": []
  }
 ],
 "metadata": {
  "kernelspec": {
   "display_name": "Python 3",
   "language": "python",
   "name": "python3"
  },
  "language_info": {
   "codemirror_mode": {
    "name": "ipython",
    "version": 3
   },
   "file_extension": ".py",
   "mimetype": "text/x-python",
   "name": "python",
   "nbconvert_exporter": "python",
   "pygments_lexer": "ipython3",
   "version": "3.7.6"
  }
 },
 "nbformat": 4,
 "nbformat_minor": 4
}
